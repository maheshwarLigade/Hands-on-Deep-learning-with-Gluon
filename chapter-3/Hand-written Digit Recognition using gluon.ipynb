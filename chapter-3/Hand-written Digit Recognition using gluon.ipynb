{
 "cells": [
  {
   "cell_type": "markdown",
   "metadata": {},
   "source": [
    "## Hand-written Digit Recognition using gluon"
   ]
  },
  {
   "cell_type": "code",
   "execution_count": 9,
   "metadata": {},
   "outputs": [],
   "source": [
    "import mxnet as mx\n",
    "import numpy as np\n",
    "\n",
    "import mxnet as mx\n",
    "from mxnet import nd, gluon, autograd\n",
    "from mxnet.gluon import nn\n",
    "\n",
    "# Select a fixed random seed for reproducibility\n",
    "mx.random.seed(42)\n",
    "\n",
    "def data_xform(data):\n",
    "    \"\"\"Move channel axis to the beginning, cast to float32, and normalize to [0, 1].\"\"\"\n",
    "    return nd.moveaxis(data, 2, 0).astype('float32') / 255\n",
    "\n",
    "train_data = mx.gluon.data.vision.MNIST(train=True).transform_first(data_xform)\n",
    "val_data = mx.gluon.data.vision.MNIST(train=False).transform_first(data_xform)"
   ]
  },
  {
   "cell_type": "code",
   "execution_count": 15,
   "metadata": {},
   "outputs": [],
   "source": [
    "ctx = mx.gpu(0) if mx.context.num_gpus() > 0 else mx.cpu(0)\n"
   ]
  },
  {
   "cell_type": "code",
   "execution_count": 16,
   "metadata": {},
   "outputs": [],
   "source": [
    "batch_size = 100\n",
    "train_loader = mx.gluon.data.DataLoader(train_data, shuffle=True, batch_size=batch_size)\n",
    "val_loader = mx.gluon.data.DataLoader(val_data, shuffle=False, batch_size=batch_size)"
   ]
  },
  {
   "cell_type": "code",
   "execution_count": 22,
   "metadata": {},
   "outputs": [
    {
     "name": "stdout",
     "output_type": "stream",
     "text": [
      "conv2_ (\n",
      "  Parameter conv2_weight (shape=(32, 16, 3, 3), dtype=<class 'numpy.float32'>)\n",
      "  Parameter conv2_bias (shape=(32,), dtype=<class 'numpy.float32'>)\n",
      ")\n"
     ]
    }
   ],
   "source": [
    "conv_layer = nn.Conv2D(kernel_size=(3, 3), channels=32, in_channels=16, activation='relu')\n",
    "print(conv_layer.params)"
   ]
  },
  {
   "cell_type": "code",
   "execution_count": 23,
   "metadata": {},
   "outputs": [],
   "source": [
    "metric = mx.metric.Accuracy()\n",
    "loss_function = gluon.loss.SoftmaxCrossEntropyLoss()"
   ]
  },
  {
   "cell_type": "code",
   "execution_count": 24,
   "metadata": {},
   "outputs": [],
   "source": [
    "lenet = nn.HybridSequential(prefix='LeNet_')\n",
    "with lenet.name_scope():\n",
    "    lenet.add(\n",
    "        nn.Conv2D(channels=20, kernel_size=(5, 5), activation='tanh'),\n",
    "        nn.MaxPool2D(pool_size=(2, 2), strides=(2, 2)),\n",
    "        nn.Conv2D(channels=50, kernel_size=(5, 5), activation='tanh'),\n",
    "        nn.MaxPool2D(pool_size=(2, 2), strides=(2, 2)),\n",
    "        nn.Flatten(),\n",
    "        nn.Dense(500, activation='tanh'),\n",
    "        nn.Dense(10, activation=None),\n",
    "    )"
   ]
  },
  {
   "cell_type": "code",
   "execution_count": 25,
   "metadata": {},
   "outputs": [
    {
     "name": "stdout",
     "output_type": "stream",
     "text": [
      "--------------------------------------------------------------------------------\n",
      "        Layer (type)                                Output Shape         Param #\n",
      "================================================================================\n",
      "               Input                              (1, 1, 28, 28)               0\n",
      "        Activation-1                <Symbol eNet_conv0_tanh_fwd>               0\n",
      "        Activation-2                             (1, 20, 24, 24)               0\n",
      "            Conv2D-3                             (1, 20, 24, 24)             520\n",
      "         MaxPool2D-4                             (1, 20, 12, 12)               0\n",
      "        Activation-5                <Symbol eNet_conv1_tanh_fwd>               0\n",
      "        Activation-6                               (1, 50, 8, 8)               0\n",
      "            Conv2D-7                               (1, 50, 8, 8)           25050\n",
      "         MaxPool2D-8                               (1, 50, 4, 4)               0\n",
      "           Flatten-9                                    (1, 800)               0\n",
      "       Activation-10               <Symbol eNet_dense0_tanh_fwd>               0\n",
      "       Activation-11                                    (1, 500)               0\n",
      "            Dense-12                                    (1, 500)          400500\n",
      "            Dense-13                                     (1, 10)            5010\n",
      "================================================================================\n",
      "Parameters in forward computation graph, duplicate included\n",
      "   Total params: 431080\n",
      "   Trainable params: 431080\n",
      "   Non-trainable params: 0\n",
      "Shared params in forward computation graph: 0\n",
      "Unique parameters in model: 431080\n",
      "--------------------------------------------------------------------------------\n"
     ]
    }
   ],
   "source": [
    "lenet.initialize(mx.init.Xavier(), ctx=ctx)\n",
    "lenet.summary(nd.zeros((1, 1, 28, 28), ctx=ctx))"
   ]
  },
  {
   "cell_type": "code",
   "execution_count": 26,
   "metadata": {},
   "outputs": [
    {
     "name": "stdout",
     "output_type": "stream",
     "text": [
      "After epoch 1: accuracy = 0.8972666666666667\n",
      "After epoch 2: accuracy = 0.9629333333333333\n",
      "After epoch 3: accuracy = 0.9739\n",
      "After epoch 4: accuracy = 0.97865\n",
      "After epoch 5: accuracy = 0.98265\n",
      "After epoch 6: accuracy = 0.9849166666666667\n",
      "After epoch 7: accuracy = 0.9862333333333333\n",
      "After epoch 8: accuracy = 0.9880666666666666\n",
      "After epoch 9: accuracy = 0.9889333333333333\n",
      "After epoch 10: accuracy = 0.9900666666666667\n",
      "Validaton: accuracy = 0.9887\n"
     ]
    }
   ],
   "source": [
    "trainer = gluon.Trainer(\n",
    "    params=lenet.collect_params(),\n",
    "    optimizer='sgd',\n",
    "    optimizer_params={'learning_rate': 0.04},\n",
    ")\n",
    "metric = mx.metric.Accuracy()\n",
    "num_epochs = 10\n",
    "\n",
    "for epoch in range(num_epochs):\n",
    "    for inputs, labels in train_loader:\n",
    "        inputs = inputs.as_in_context(ctx)\n",
    "        labels = labels.as_in_context(ctx)\n",
    "\n",
    "        with autograd.record():\n",
    "            outputs = lenet(inputs)\n",
    "            loss = loss_function(outputs, labels)\n",
    "\n",
    "        loss.backward()\n",
    "        metric.update(labels, outputs)\n",
    "\n",
    "        trainer.step(batch_size=inputs.shape[0])\n",
    "\n",
    "    name, acc = metric.get()\n",
    "    print('After epoch {}: {} = {}'.format(epoch + 1, name, acc))\n",
    "    metric.reset()\n",
    "\n",
    "for inputs, labels in val_loader:\n",
    "    inputs = inputs.as_in_context(ctx)\n",
    "    labels = labels.as_in_context(ctx)\n",
    "    metric.update(labels, lenet(inputs))\n",
    "print('Validaton: {} = {}'.format(*metric.get()))\n",
    "assert metric.get()[1] > 0.985"
   ]
  },
  {
   "cell_type": "code",
   "execution_count": 31,
   "metadata": {},
   "outputs": [],
   "source": [
    "def get_mislabeled(loader):\n",
    "    \"\"\"Return list of ``(input, pred_lbl, true_lbl)`` for mislabeled samples.\"\"\"\n",
    "    mislabeled = []\n",
    "    for inputs, labels in loader:\n",
    "        inputs = inputs.as_in_context(ctx)\n",
    "        labels = labels.as_in_context(ctx)\n",
    "        outputs = lenet(inputs)\n",
    "        # Predicted label is the index is where the output is maximal\n",
    "        preds = nd.argmax(outputs, axis=1)\n",
    "        for i, p, l in zip(inputs, preds, labels):\n",
    "            p, l = int(p.asscalar()), int(l.asscalar())\n",
    "            if p != l:\n",
    "                mislabeled.append((i.asnumpy(), p, l))\n",
    "    return mislabeled"
   ]
  },
  {
   "cell_type": "code",
   "execution_count": 32,
   "metadata": {},
   "outputs": [
    {
     "data": {
      "image/png": "[encoded data removed]",
      "text/plain": [
       "<Figure size 1296x288 with 8 Axes>"
      ]
     },
     "metadata": {
      "needs_background": "light"
     },
     "output_type": "display_data"
    },
    {
     "data": {
      "image/png": "[encoded data removed]",
      "text/plain": [
       "<Figure size 1296x288 with 8 Axes>"
      ]
     },
     "metadata": {
      "needs_background": "light"
     },
     "output_type": "display_data"
    }
   ],
   "source": [
    "import numpy as np\n",
    "\n",
    "sample_size = 8\n",
    "wrong_train = get_mislabeled(train_loader)\n",
    "wrong_val = get_mislabeled(val_loader)\n",
    "wrong_train_sample = [wrong_train[i] for i in np.random.randint(0, len(wrong_train), size=sample_size)]\n",
    "wrong_val_sample = [wrong_val[i] for i in np.random.randint(0, len(wrong_val), size=sample_size)]\n",
    "\n",
    "import matplotlib.pyplot as plt\n",
    "\n",
    "fig, axs = plt.subplots(ncols=sample_size)\n",
    "for ax, (img, pred, lbl) in zip(axs, wrong_train_sample):\n",
    "    fig.set_size_inches(18, 4)\n",
    "    fig.suptitle(\"Sample of wrong predictions in the training set\", fontsize=20)\n",
    "    ax.imshow(img[0], cmap=\"gray\")\n",
    "    ax.set_title(\"Predicted: {}\\nActual: {}\".format(pred, lbl))\n",
    "    ax.xaxis.set_visible(False)\n",
    "    ax.yaxis.set_visible(False)\n",
    "\n",
    "fig, axs = plt.subplots(ncols=sample_size)\n",
    "for ax, (img, pred, lbl) in zip(axs, wrong_val_sample):\n",
    "    fig.set_size_inches(18, 4)\n",
    "    fig.suptitle(\"Sample of wrong predictions in the validation set\", fontsize=20)\n",
    "    ax.imshow(img[0], cmap=\"gray\")\n",
    "    ax.set_title(\"Predicted: {}\\nActual: {}\".format(pred, lbl))\n",
    "    ax.xaxis.set_visible(False)\n",
    "    ax.yaxis.set_visible(False)"
   ]
  },
  {
   "cell_type": "code",
   "execution_count": null,
   "metadata": {},
   "outputs": [],
   "source": []
  }
 ],
 "metadata": {
  "kernelspec": {
   "display_name": "Python 3",
   "language": "python",
   "name": "python3"
  },
  "language_info": {
   "codemirror_mode": {
    "name": "ipython",
    "version": 3
   },
   "file_extension": ".py",
   "mimetype": "text/x-python",
   "name": "python",
   "nbconvert_exporter": "python",
   "pygments_lexer": "ipython3",
   "version": "3.7.3"
  }
 },
 "nbformat": 4,
 "nbformat_minor": 2
}
